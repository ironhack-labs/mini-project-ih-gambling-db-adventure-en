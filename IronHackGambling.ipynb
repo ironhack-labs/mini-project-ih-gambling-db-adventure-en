{
 "cells": [
  {
   "cell_type": "code",
   "execution_count": 327,
   "id": "24c3a9d2-7343-4412-8569-48326bb707d7",
   "metadata": {},
   "outputs": [],
   "source": [
    "import mysql.connector\n",
    "import pandas as pd"
   ]
  },
  {
   "cell_type": "code",
   "execution_count": 329,
   "id": "5072df0e-d14e-484f-a4d6-106f0fd3de31",
   "metadata": {},
   "outputs": [],
   "source": [
    "account = pd.read_excel(\"./dataset/SQL Test Data.xlsx\", sheet_name=\"Account\")\n",
    "betting = pd.read_excel(\"./dataset/SQL Test Data.xlsx\", sheet_name=\"Betting\")\n",
    "customer = pd.read_excel(\"./dataset/SQL Test Data.xlsx\", sheet_name=\"Customer\")\n",
    "product = pd.read_excel(\"./dataset/SQL Test Data.xlsx\", sheet_name=\"Product\")\n",
    "\n",
    "student = pd.read_excel(\"./dataset/SQL Test Data.xlsx\", sheet_name=\"Student\", header=1)\n",
    "student = student.drop(index=0) #Drop second row due to data not there, continue on the 3rd row for data insertion\n",
    "\n",
    "school = pd.read_excel(\"./dataset/SQL Test Data.xlsx\", sheet_name=\"School\", header=1)\n",
    "school = school.drop(index=0) #Drop second row due to data not there, continue on the 3rd row for data insertion"
   ]
  },
  {
   "cell_type": "code",
   "execution_count": 330,
   "id": "6e1938fa-2ad8-4d4a-8cbc-67ea2072f3ed",
   "metadata": {},
   "outputs": [
    {
     "name": "stdout",
     "output_type": "stream",
     "text": [
      "There is a confirmed connection <mysql.connector.connection.MySQLConnection object at 0x0000019CBBDA6810>\n"
     ]
    }
   ],
   "source": [
    "gamble_db = mysql.connector.connect(\n",
    "    host=\"localhost\",      \n",
    "    port=3306,             \n",
    "    user=\"root\",\n",
    "    password=\"SQLNikki272829\",\n",
    "    database=\"IronHackGamble\"\n",
    ")\n",
    "\n",
    "print(f\"There is a confirmed connection {gamble_db}\")  "
   ]
  },
  {
   "cell_type": "code",
   "execution_count": 331,
   "id": "25c5ed09-28b2-47c6-b63f-8bcfb0bd9021",
   "metadata": {},
   "outputs": [],
   "source": [
    "mycursor = gamble_db.cursor()\n",
    "\n",
    "mycursor.execute(\"CREATE DATABASE IF NOT EXISTS IronHackGamble\")"
   ]
  },
  {
   "cell_type": "code",
   "execution_count": 333,
   "id": "73d85fae-e040-429b-bebb-15dc3ed847f6",
   "metadata": {},
   "outputs": [
    {
     "name": "stdout",
     "output_type": "stream",
     "text": [
      "('bank',)\n",
      "('information_schema',)\n",
      "('ironhackgamble',)\n",
      "('lab_mysql',)\n",
      "('mysql',)\n",
      "('performance_schema',)\n",
      "('publications',)\n",
      "('sakila',)\n",
      "('sys',)\n"
     ]
    }
   ],
   "source": [
    "mycursor.execute(\"SHOW DATABASES\")\n",
    "\n",
    "for x in mycursor:\n",
    "  print(x)"
   ]
  },
  {
   "cell_type": "code",
   "execution_count": 334,
   "id": "d9f50d1c-402b-4bf0-ae46-67e1417c762d",
   "metadata": {},
   "outputs": [],
   "source": [
    "mycursor.execute(\"USE IronHackGamble\")"
   ]
  },
  {
   "cell_type": "code",
   "execution_count": 335,
   "id": "2594d348-c9f2-472a-819b-272dbec6c475",
   "metadata": {},
   "outputs": [],
   "source": [
    "#Account table query\n",
    "mycursor = gamble_db.cursor()\n",
    "\n",
    "account_table_query = \"\"\"\n",
    "CREATE TABLE IF NOT EXISTS Account (\n",
    "  account_num VARCHAR(7) PRIMARY KEY,\n",
    "  customer_id INT,\n",
    "  account_location CHAR(3),\n",
    "  currency_code CHAR(3),\n",
    "  daily_deposit_limit DECIMAL(10, 2),\n",
    "  stake_scale DECIMAL(5, 2),\n",
    "  source_prod VARCHAR(2)\n",
    ");\n",
    "\"\"\"\n",
    "\n",
    "mycursor.execute(account_table_query)"
   ]
  },
  {
   "cell_type": "code",
   "execution_count": 336,
   "id": "fd695256-12b8-45dd-916f-5c056eb7f81f",
   "metadata": {},
   "outputs": [],
   "source": [
    "#Betting table query\n",
    "mycursor = gamble_db.cursor()\n",
    "\n",
    "betting_table_query = \"\"\"\n",
    "CREATE TABLE IF NOT EXISTS Betting (\n",
    "  account_num VARCHAR(7),\n",
    "  bet_date TIMESTAMP,\n",
    "  class_id VARCHAR(20),\n",
    "  category_id INT,\n",
    "  source CHAR(1),\n",
    "  bet_count INT,\n",
    "  bet_amount DECIMAL(10, 2),\n",
    "  win_amount DECIMAL(10, 2),\n",
    "  product VARCHAR(20),\n",
    "  FOREIGN KEY (account_num) REFERENCES Account(account_num)\n",
    ");\n",
    "\"\"\"\n",
    "mycursor.execute(betting_table_query)"
   ]
  },
  {
   "cell_type": "code",
   "execution_count": 337,
   "id": "3caea49c-8786-4a7b-ab4e-2d89964bcdb4",
   "metadata": {},
   "outputs": [],
   "source": [
    "#Customer table query\n",
    "mycursor = gamble_db.cursor()\n",
    "\n",
    "customer_table_query = \"\"\"\n",
    "CREATE TABLE IF NOT EXISTS Customer (\n",
    "  cust_id INT PRIMARY KEY,\n",
    "  account_location CHAR(3),\n",
    "  title VARCHAR(10),\n",
    "  first_name VARCHAR(50),\n",
    "  last_name VARCHAR(50),\n",
    "  create_date DATE,\n",
    "  country_code CHAR(2),\n",
    "  language CHAR(2),\n",
    "  status CHAR(1),\n",
    "  date_of_birth DATE,\n",
    "  contact CHAR(1),\n",
    "  customer_group VARCHAR(20)\n",
    ");\n",
    "\"\"\"\n",
    "mycursor.execute(customer_table_query)"
   ]
  },
  {
   "cell_type": "code",
   "execution_count": 338,
   "id": "5f8f90da-a46a-46af-9303-76c5ca0b7bc8",
   "metadata": {},
   "outputs": [],
   "source": [
    "#Product table query\n",
    "mycursor = gamble_db.cursor()\n",
    "\n",
    "product_table_query = \"\"\"\n",
    "CREATE TABLE IF NOT EXISTS Product (\n",
    "  CLASSID VARCHAR(20),\n",
    "  CATEGORYID INT,\n",
    "  product VARCHAR(50),\n",
    "  sub_product VARCHAR(50),\n",
    "  description VARCHAR(100),\n",
    "  bet_or_play INT\n",
    ");\n",
    "\"\"\"\n",
    "mycursor.execute(product_table_query)"
   ]
  },
  {
   "cell_type": "code",
   "execution_count": 339,
   "id": "017997fa-4f89-4854-af7f-c2282d87d3ca",
   "metadata": {},
   "outputs": [
    {
     "name": "stdout",
     "output_type": "stream",
     "text": [
      "('account',)\n",
      "('betting',)\n",
      "('customer',)\n",
      "('product',)\n",
      "('school',)\n",
      "('student',)\n"
     ]
    }
   ],
   "source": [
    "mycursor.execute(\"SHOW TABLES\")\n",
    "\n",
    "for x in mycursor:\n",
    "  print(x)"
   ]
  },
  {
   "cell_type": "code",
   "execution_count": 342,
   "id": "07a1f79d-79b7-4de7-b70c-01db28dc02f6",
   "metadata": {},
   "outputs": [],
   "source": [
    "#Insert data for account table\n",
    "for index,row in account.iterrows():\n",
    "    account_num = row['AccountNo']\n",
    "    customer_id = row['CustId']\n",
    "    account_location = row['AccountLocation']\n",
    "    currency_code = row['CurrencyCode']\n",
    "    daily_deposit_limit = row['DailyDepositLimit'] \n",
    "    stake_scale = row['StakeScale']\n",
    "    source_prod = row['SourceProd']\n",
    "    \n",
    "    account_insert_query = \"\"\"\n",
    "        INSERT INTO Account (account_num, customer_id, account_location, currency_code, daily_deposit_limit, stake_scale, source_prod)\n",
    "        VALUES (%s, %s, %s, %s, %s, %s, %s)\n",
    "        ON DUPLICATE KEY UPDATE\n",
    "        customer_id = VALUES(customer_id), \n",
    "        account_location = VALUES(account_location),\n",
    "        currency_code = VALUES(currency_code),\n",
    "        daily_deposit_limit = VALUES(daily_deposit_limit),\n",
    "        stake_scale = VALUES(stake_scale),\n",
    "        source_prod = VALUES(source_prod);\n",
    "        \"\"\"\n",
    "    \n",
    "    \n",
    "    mycursor.execute(account_insert_query, (account_num, customer_id, account_location, currency_code, daily_deposit_limit, stake_scale, source_prod))"
   ]
  },
  {
   "cell_type": "code",
   "execution_count": 350,
   "id": "467ce18c-cca6-46dd-bdaf-f21dbfb74f8a",
   "metadata": {},
   "outputs": [],
   "source": [
    "#Insert data for betting table\n",
    "for index, row in betting.iterrows():\n",
    "    account_num = row['AccountNo']\n",
    "    bet_date = row['BetDate']\n",
    "    class_id = row['ClassId']\n",
    "    category_id = row['CategoryId']\n",
    "    source = row['Source']\n",
    "    bet_count = row['BetCount']\n",
    "    bet_amount = row['Bet_Amt']\n",
    "    win_amount = row['Win_Amt']\n",
    "    product = row['Product']\n",
    "\n",
    "    bet_date = pd.to_datetime(row['BetDate']).strftime('%Y-%m-%d %H:%M:%S') if not pd.isna(row['BetDate']) else None\n",
    "    \n",
    "    betting_insert_query = \"\"\"\n",
    "        INSERT INTO Betting (account_num, bet_date, class_id, category_id, source, bet_count, bet_amount, win_amount, product)\n",
    "        VALUES (%s, %s, %s, %s, %s, %s, %s, %s, %s)\n",
    "        \"\"\"\n",
    "    \n",
    "    mycursor.execute(betting_insert_query, (account_num, bet_date, class_id, category_id, source, bet_count, bet_amount, win_amount, product))"
   ]
  },
  {
   "cell_type": "code",
   "execution_count": 352,
   "id": "9f90c774-f558-47c6-979c-7e6e4552ea3a",
   "metadata": {},
   "outputs": [
    {
     "ename": "IntegrityError",
     "evalue": "1062 (23000): Duplicate entry '4188499' for key 'customer.PRIMARY'",
     "output_type": "error",
     "traceback": [
      "\u001b[1;31m---------------------------------------------------------------------------\u001b[0m",
      "\u001b[1;31mIntegrityError\u001b[0m                            Traceback (most recent call last)",
      "Cell \u001b[1;32mIn[352], line 25\u001b[0m\n\u001b[0;32m     17\u001b[0m date_of_birth \u001b[38;5;241m=\u001b[39m pd\u001b[38;5;241m.\u001b[39mto_datetime(row[\u001b[38;5;124m'\u001b[39m\u001b[38;5;124mDateOfBirth\u001b[39m\u001b[38;5;124m'\u001b[39m])\u001b[38;5;241m.\u001b[39mstrftime(\u001b[38;5;124m'\u001b[39m\u001b[38;5;124m%\u001b[39m\u001b[38;5;124mY-\u001b[39m\u001b[38;5;124m%\u001b[39m\u001b[38;5;124mm-\u001b[39m\u001b[38;5;132;01m%d\u001b[39;00m\u001b[38;5;124m \u001b[39m\u001b[38;5;124m%\u001b[39m\u001b[38;5;124mH:\u001b[39m\u001b[38;5;124m%\u001b[39m\u001b[38;5;124mM:\u001b[39m\u001b[38;5;124m%\u001b[39m\u001b[38;5;124mS\u001b[39m\u001b[38;5;124m'\u001b[39m) \u001b[38;5;28;01mif\u001b[39;00m \u001b[38;5;129;01mnot\u001b[39;00m pd\u001b[38;5;241m.\u001b[39misna(row[\u001b[38;5;124m'\u001b[39m\u001b[38;5;124mDateOfBirth\u001b[39m\u001b[38;5;124m'\u001b[39m]) \u001b[38;5;28;01melse\u001b[39;00m \u001b[38;5;28;01mNone\u001b[39;00m\n\u001b[0;32m     20\u001b[0m customer_insert_query \u001b[38;5;241m=\u001b[39m \u001b[38;5;124m\"\"\"\u001b[39m\n\u001b[0;32m     21\u001b[0m \u001b[38;5;124m    INSERT INTO Customer (cust_id, account_location, title, first_name, last_name, create_date, country_code, language, status, date_of_birth, contact, customer_group)\u001b[39m\n\u001b[0;32m     22\u001b[0m \u001b[38;5;124m    VALUES (\u001b[39m\u001b[38;5;132;01m%s\u001b[39;00m\u001b[38;5;124m, \u001b[39m\u001b[38;5;132;01m%s\u001b[39;00m\u001b[38;5;124m, \u001b[39m\u001b[38;5;132;01m%s\u001b[39;00m\u001b[38;5;124m, \u001b[39m\u001b[38;5;132;01m%s\u001b[39;00m\u001b[38;5;124m, \u001b[39m\u001b[38;5;132;01m%s\u001b[39;00m\u001b[38;5;124m, \u001b[39m\u001b[38;5;132;01m%s\u001b[39;00m\u001b[38;5;124m, \u001b[39m\u001b[38;5;132;01m%s\u001b[39;00m\u001b[38;5;124m, \u001b[39m\u001b[38;5;132;01m%s\u001b[39;00m\u001b[38;5;124m, \u001b[39m\u001b[38;5;132;01m%s\u001b[39;00m\u001b[38;5;124m, \u001b[39m\u001b[38;5;132;01m%s\u001b[39;00m\u001b[38;5;124m, \u001b[39m\u001b[38;5;132;01m%s\u001b[39;00m\u001b[38;5;124m, \u001b[39m\u001b[38;5;132;01m%s\u001b[39;00m\u001b[38;5;124m)\u001b[39m\n\u001b[0;32m     23\u001b[0m \u001b[38;5;124m    \u001b[39m\u001b[38;5;124m\"\"\"\u001b[39m\n\u001b[1;32m---> 25\u001b[0m mycursor\u001b[38;5;241m.\u001b[39mexecute(customer_insert_query, (cust_id, account_location, title, first_name, last_name, create_date, country_code, language, status, date_of_birth, contact, customer_group))\n",
      "File \u001b[1;32m~\\AppData\\Roaming\\Python\\Python312\\site-packages\\mysql\\connector\\cursor.py:537\u001b[0m, in \u001b[0;36mMySQLCursor.execute\u001b[1;34m(self, operation, params, multi)\u001b[0m\n\u001b[0;32m    534\u001b[0m     \u001b[38;5;28;01mreturn\u001b[39;00m \u001b[38;5;28mself\u001b[39m\u001b[38;5;241m.\u001b[39m_execute_iter(\u001b[38;5;28mself\u001b[39m\u001b[38;5;241m.\u001b[39m_connection\u001b[38;5;241m.\u001b[39mcmd_query_iter(stmt))\n\u001b[0;32m    536\u001b[0m \u001b[38;5;28;01mtry\u001b[39;00m:\n\u001b[1;32m--> 537\u001b[0m     \u001b[38;5;28mself\u001b[39m\u001b[38;5;241m.\u001b[39m_handle_result(\u001b[38;5;28mself\u001b[39m\u001b[38;5;241m.\u001b[39m_connection\u001b[38;5;241m.\u001b[39mcmd_query(stmt))\n\u001b[0;32m    538\u001b[0m \u001b[38;5;28;01mexcept\u001b[39;00m InterfaceError \u001b[38;5;28;01mas\u001b[39;00m err:\n\u001b[0;32m    539\u001b[0m     \u001b[38;5;28;01mif\u001b[39;00m \u001b[38;5;28mself\u001b[39m\u001b[38;5;241m.\u001b[39m_connection\u001b[38;5;241m.\u001b[39mhave_next_result:\n",
      "File \u001b[1;32m~\\AppData\\Roaming\\Python\\Python312\\site-packages\\mysql\\connector\\opentelemetry\\context_propagation.py:97\u001b[0m, in \u001b[0;36mwith_context_propagation.<locals>.wrapper\u001b[1;34m(cnx, *args, **kwargs)\u001b[0m\n\u001b[0;32m     95\u001b[0m \u001b[38;5;66;03m# pylint: disable=possibly-used-before-assignment\u001b[39;00m\n\u001b[0;32m     96\u001b[0m \u001b[38;5;28;01mif\u001b[39;00m \u001b[38;5;129;01mnot\u001b[39;00m OTEL_ENABLED \u001b[38;5;129;01mor\u001b[39;00m \u001b[38;5;129;01mnot\u001b[39;00m cnx\u001b[38;5;241m.\u001b[39motel_context_propagation:\n\u001b[1;32m---> 97\u001b[0m     \u001b[38;5;28;01mreturn\u001b[39;00m method(cnx, \u001b[38;5;241m*\u001b[39margs, \u001b[38;5;241m*\u001b[39m\u001b[38;5;241m*\u001b[39mkwargs)\n\u001b[0;32m     99\u001b[0m current_span \u001b[38;5;241m=\u001b[39m trace\u001b[38;5;241m.\u001b[39mget_current_span()\n\u001b[0;32m    100\u001b[0m tp_header \u001b[38;5;241m=\u001b[39m \u001b[38;5;28;01mNone\u001b[39;00m\n",
      "File \u001b[1;32m~\\AppData\\Roaming\\Python\\Python312\\site-packages\\mysql\\connector\\connection.py:872\u001b[0m, in \u001b[0;36mMySQLConnection.cmd_query\u001b[1;34m(self, query, raw, buffered, raw_as_string)\u001b[0m\n\u001b[0;32m    870\u001b[0m query \u001b[38;5;241m=\u001b[39m \u001b[38;5;28mbytes\u001b[39m(packet)\n\u001b[0;32m    871\u001b[0m \u001b[38;5;28;01mtry\u001b[39;00m:\n\u001b[1;32m--> 872\u001b[0m     result \u001b[38;5;241m=\u001b[39m \u001b[38;5;28mself\u001b[39m\u001b[38;5;241m.\u001b[39m_handle_result(\u001b[38;5;28mself\u001b[39m\u001b[38;5;241m.\u001b[39m_send_cmd(ServerCmd\u001b[38;5;241m.\u001b[39mQUERY, query))\n\u001b[0;32m    873\u001b[0m \u001b[38;5;28;01mexcept\u001b[39;00m ProgrammingError \u001b[38;5;28;01mas\u001b[39;00m err:\n\u001b[0;32m    874\u001b[0m     \u001b[38;5;28;01mif\u001b[39;00m err\u001b[38;5;241m.\u001b[39merrno \u001b[38;5;241m==\u001b[39m \u001b[38;5;241m3948\u001b[39m \u001b[38;5;129;01mand\u001b[39;00m \u001b[38;5;124m\"\u001b[39m\u001b[38;5;124mLoading local data is disabled\u001b[39m\u001b[38;5;124m\"\u001b[39m \u001b[38;5;129;01min\u001b[39;00m err\u001b[38;5;241m.\u001b[39mmsg:\n",
      "File \u001b[1;32m~\\AppData\\Roaming\\Python\\Python312\\site-packages\\mysql\\connector\\connection.py:648\u001b[0m, in \u001b[0;36mMySQLConnection._handle_result\u001b[1;34m(self, packet)\u001b[0m\n\u001b[0;32m    646\u001b[0m     \u001b[38;5;28;01mreturn\u001b[39;00m \u001b[38;5;28mself\u001b[39m\u001b[38;5;241m.\u001b[39m_handle_eof(packet)\n\u001b[0;32m    647\u001b[0m \u001b[38;5;28;01mif\u001b[39;00m packet[\u001b[38;5;241m4\u001b[39m] \u001b[38;5;241m==\u001b[39m \u001b[38;5;241m255\u001b[39m:\n\u001b[1;32m--> 648\u001b[0m     \u001b[38;5;28;01mraise\u001b[39;00m get_exception(packet)\n\u001b[0;32m    650\u001b[0m \u001b[38;5;66;03m# We have a text result set\u001b[39;00m\n\u001b[0;32m    651\u001b[0m column_count \u001b[38;5;241m=\u001b[39m \u001b[38;5;28mself\u001b[39m\u001b[38;5;241m.\u001b[39m_protocol\u001b[38;5;241m.\u001b[39mparse_column_count(packet)\n",
      "\u001b[1;31mIntegrityError\u001b[0m: 1062 (23000): Duplicate entry '4188499' for key 'customer.PRIMARY'"
     ]
    }
   ],
   "source": [
    "#Insert data for the customer table\n",
    "for index, row in customer.iterrows():\n",
    "    cust_id = row['CustId']\n",
    "    account_location = row['AccountLocation']\n",
    "    title = row['Title']\n",
    "    first_name = row['FirstName']\n",
    "    last_name = row['LastName']\n",
    "    create_date = row['CreateDate']\n",
    "    country_code = row['CountryCode']\n",
    "    language = row['Language']\n",
    "    status = row['Status']\n",
    "    date_of_birth = row['DateOfBirth']\n",
    "    contact = row['Contact']\n",
    "    customer_group = row['CustomerGroup']\n",
    "\n",
    "    create_date = pd.to_datetime(row['CreateDate']).strftime('%Y-%m-%d %H:%M:%S') if not pd.isna(row['CreateDate']) else None\n",
    "    date_of_birth = pd.to_datetime(row['DateOfBirth']).strftime('%Y-%m-%d %H:%M:%S') if not pd.isna(row['DateOfBirth']) else None\n",
    "\n",
    "    \n",
    "    customer_insert_query = \"\"\"\n",
    "        INSERT INTO Customer (cust_id, account_location, title, first_name, last_name, create_date, country_code, language, status, date_of_birth, contact, customer_group)\n",
    "        VALUES (%s, %s, %s, %s, %s, %s, %s, %s, %s, %s, %s, %s)\n",
    "        \"\"\"\n",
    "    \n",
    "    mycursor.execute(customer_insert_query, (cust_id, account_location, title, first_name, last_name, create_date, country_code, language, status, date_of_birth, contact, customer_group))"
   ]
  },
  {
   "cell_type": "code",
   "execution_count": null,
   "id": "a11aa03c-60de-44d1-a268-c7f244f9cfbf",
   "metadata": {},
   "outputs": [],
   "source": [
    "#Insert data for the product table\n",
    "for index, row in product.iterrows():\n",
    "    CLASSID = row['CLASSID']\n",
    "    CATEGORYID = row['CATEGORYID']\n",
    "    product_name = row['product']\n",
    "    sub_product = row['sub_product']\n",
    "    description = row['description']\n",
    "    bet_or_play = row['bet_or_play']\n",
    "    \n",
    "    product_insert_query = \"\"\"\n",
    "        INSERT INTO Product (CLASSID, CATEGORYID, product, sub_product, description, bet_or_play)\n",
    "        VALUES (%s, %s, %s, %s, %s, %s)\n",
    "        \"\"\"\n",
    "    \n",
    "    mycursor.execute(product_insert_query, (CLASSID, CATEGORYID, product_name, sub_product, description, bet_or_play))"
   ]
  },
  {
   "cell_type": "code",
   "execution_count": null,
   "id": "ea6eae22-179a-4a2e-bf4a-aba8e8a6b36a",
   "metadata": {},
   "outputs": [],
   "source": []
  },
  {
   "cell_type": "code",
   "execution_count": null,
   "id": "9e00d408-bc3f-4a46-be9c-949347505b73",
   "metadata": {},
   "outputs": [],
   "source": [
    "#Create Students table\n",
    "mycursor = gamble_db.cursor()\n",
    "\n",
    "student_table_query = \"\"\"\n",
    "CREATE TABLE IF NOT EXISTS Student (\n",
    "  student_id INT(4) PRIMARY KEY,      \n",
    "  student_name VARCHAR(50) NOT NULL,  \n",
    "  city VARCHAR(50) NOT NULL,         \n",
    "  school_id INT NOT NULL,             \n",
    "  GPA DECIMAL(3,2) NOT NULL           \n",
    ");\n",
    "\"\"\"\n",
    "mycursor.execute(student_table_query)"
   ]
  },
  {
   "cell_type": "code",
   "execution_count": null,
   "id": "2cd6446c-d0ef-40b6-b5a3-61fe81bdc08f",
   "metadata": {},
   "outputs": [],
   "source": [
    "#Insert Student data\n",
    "for index, row in student_school.iterrows():\n",
    "    student_id = row['student_id']\n",
    "    student_name = row['student_name']\n",
    "    city = row['city']\n",
    "    school_id = row['school_id']\n",
    "    GPA = row['GPA']\n",
    "    \n",
    "    student_insert_query = \"\"\"\n",
    "        INSERT INTO Student (student_id, student_name, city, school_id, GPA)\n",
    "        VALUES (%s, %s, %s, %s, %s)\n",
    "        \"\"\"\n",
    "    \n",
    "    mycursor.execute(student_insert_query, (student_id, student_name, city, school_id, GPA))"
   ]
  },
  {
   "cell_type": "code",
   "execution_count": 360,
   "id": "0eaf23a4-94c8-44ba-bc2d-94d6f51eab95",
   "metadata": {},
   "outputs": [],
   "source": [
    "#Create School table\n",
    "mycursor = gamble_db.cursor()\n",
    "\n",
    "school_table_query = \"\"\"\n",
    "CREATE TABLE IF NOT EXISTS School (\n",
    "  school_id INT PRIMARY KEY,        \n",
    "  school_name VARCHAR(100) NOT NULL,\n",
    "  city VARCHAR(50) NOT NULL            \n",
    ");\n",
    "\"\"\"\n",
    "mycursor.execute(school_table_query)"
   ]
  },
  {
   "cell_type": "code",
   "execution_count": 362,
   "id": "363b2306-f9d5-4f92-8bd9-82a34ab2460f",
   "metadata": {},
   "outputs": [
    {
     "ename": "DatabaseError",
     "evalue": "1205 (HY000): Lock wait timeout exceeded; try restarting transaction",
     "output_type": "error",
     "traceback": [
      "\u001b[1;31m---------------------------------------------------------------------------\u001b[0m",
      "\u001b[1;31mDatabaseError\u001b[0m                             Traceback (most recent call last)",
      "Cell \u001b[1;32mIn[362], line 15\u001b[0m\n\u001b[0;32m      5\u001b[0m city \u001b[38;5;241m=\u001b[39m row[\u001b[38;5;124m'\u001b[39m\u001b[38;5;124mcity\u001b[39m\u001b[38;5;124m'\u001b[39m]\n\u001b[0;32m      7\u001b[0m school_insert_query \u001b[38;5;241m=\u001b[39m \u001b[38;5;124m\"\"\"\u001b[39m\n\u001b[0;32m      8\u001b[0m \u001b[38;5;124m    INSERT INTO School (school_id, school_name, city)\u001b[39m\n\u001b[0;32m      9\u001b[0m \u001b[38;5;124m    VALUES (\u001b[39m\u001b[38;5;132;01m%s\u001b[39;00m\u001b[38;5;124m, \u001b[39m\u001b[38;5;132;01m%s\u001b[39;00m\u001b[38;5;124m, \u001b[39m\u001b[38;5;132;01m%s\u001b[39;00m\u001b[38;5;124m)\u001b[39m\n\u001b[1;32m   (...)\u001b[0m\n\u001b[0;32m     12\u001b[0m \u001b[38;5;124m        city = VALUES(city);\u001b[39m\n\u001b[0;32m     13\u001b[0m \u001b[38;5;124m\u001b[39m\u001b[38;5;124m\"\"\"\u001b[39m\n\u001b[1;32m---> 15\u001b[0m mycursor\u001b[38;5;241m.\u001b[39mexecute(school_insert_query, (school_id, school_name, city))\n",
      "File \u001b[1;32m~\\AppData\\Roaming\\Python\\Python312\\site-packages\\mysql\\connector\\cursor.py:537\u001b[0m, in \u001b[0;36mMySQLCursor.execute\u001b[1;34m(self, operation, params, multi)\u001b[0m\n\u001b[0;32m    534\u001b[0m     \u001b[38;5;28;01mreturn\u001b[39;00m \u001b[38;5;28mself\u001b[39m\u001b[38;5;241m.\u001b[39m_execute_iter(\u001b[38;5;28mself\u001b[39m\u001b[38;5;241m.\u001b[39m_connection\u001b[38;5;241m.\u001b[39mcmd_query_iter(stmt))\n\u001b[0;32m    536\u001b[0m \u001b[38;5;28;01mtry\u001b[39;00m:\n\u001b[1;32m--> 537\u001b[0m     \u001b[38;5;28mself\u001b[39m\u001b[38;5;241m.\u001b[39m_handle_result(\u001b[38;5;28mself\u001b[39m\u001b[38;5;241m.\u001b[39m_connection\u001b[38;5;241m.\u001b[39mcmd_query(stmt))\n\u001b[0;32m    538\u001b[0m \u001b[38;5;28;01mexcept\u001b[39;00m InterfaceError \u001b[38;5;28;01mas\u001b[39;00m err:\n\u001b[0;32m    539\u001b[0m     \u001b[38;5;28;01mif\u001b[39;00m \u001b[38;5;28mself\u001b[39m\u001b[38;5;241m.\u001b[39m_connection\u001b[38;5;241m.\u001b[39mhave_next_result:\n",
      "File \u001b[1;32m~\\AppData\\Roaming\\Python\\Python312\\site-packages\\mysql\\connector\\opentelemetry\\context_propagation.py:97\u001b[0m, in \u001b[0;36mwith_context_propagation.<locals>.wrapper\u001b[1;34m(cnx, *args, **kwargs)\u001b[0m\n\u001b[0;32m     95\u001b[0m \u001b[38;5;66;03m# pylint: disable=possibly-used-before-assignment\u001b[39;00m\n\u001b[0;32m     96\u001b[0m \u001b[38;5;28;01mif\u001b[39;00m \u001b[38;5;129;01mnot\u001b[39;00m OTEL_ENABLED \u001b[38;5;129;01mor\u001b[39;00m \u001b[38;5;129;01mnot\u001b[39;00m cnx\u001b[38;5;241m.\u001b[39motel_context_propagation:\n\u001b[1;32m---> 97\u001b[0m     \u001b[38;5;28;01mreturn\u001b[39;00m method(cnx, \u001b[38;5;241m*\u001b[39margs, \u001b[38;5;241m*\u001b[39m\u001b[38;5;241m*\u001b[39mkwargs)\n\u001b[0;32m     99\u001b[0m current_span \u001b[38;5;241m=\u001b[39m trace\u001b[38;5;241m.\u001b[39mget_current_span()\n\u001b[0;32m    100\u001b[0m tp_header \u001b[38;5;241m=\u001b[39m \u001b[38;5;28;01mNone\u001b[39;00m\n",
      "File \u001b[1;32m~\\AppData\\Roaming\\Python\\Python312\\site-packages\\mysql\\connector\\connection.py:872\u001b[0m, in \u001b[0;36mMySQLConnection.cmd_query\u001b[1;34m(self, query, raw, buffered, raw_as_string)\u001b[0m\n\u001b[0;32m    870\u001b[0m query \u001b[38;5;241m=\u001b[39m \u001b[38;5;28mbytes\u001b[39m(packet)\n\u001b[0;32m    871\u001b[0m \u001b[38;5;28;01mtry\u001b[39;00m:\n\u001b[1;32m--> 872\u001b[0m     result \u001b[38;5;241m=\u001b[39m \u001b[38;5;28mself\u001b[39m\u001b[38;5;241m.\u001b[39m_handle_result(\u001b[38;5;28mself\u001b[39m\u001b[38;5;241m.\u001b[39m_send_cmd(ServerCmd\u001b[38;5;241m.\u001b[39mQUERY, query))\n\u001b[0;32m    873\u001b[0m \u001b[38;5;28;01mexcept\u001b[39;00m ProgrammingError \u001b[38;5;28;01mas\u001b[39;00m err:\n\u001b[0;32m    874\u001b[0m     \u001b[38;5;28;01mif\u001b[39;00m err\u001b[38;5;241m.\u001b[39merrno \u001b[38;5;241m==\u001b[39m \u001b[38;5;241m3948\u001b[39m \u001b[38;5;129;01mand\u001b[39;00m \u001b[38;5;124m\"\u001b[39m\u001b[38;5;124mLoading local data is disabled\u001b[39m\u001b[38;5;124m\"\u001b[39m \u001b[38;5;129;01min\u001b[39;00m err\u001b[38;5;241m.\u001b[39mmsg:\n",
      "File \u001b[1;32m~\\AppData\\Roaming\\Python\\Python312\\site-packages\\mysql\\connector\\connection.py:648\u001b[0m, in \u001b[0;36mMySQLConnection._handle_result\u001b[1;34m(self, packet)\u001b[0m\n\u001b[0;32m    646\u001b[0m     \u001b[38;5;28;01mreturn\u001b[39;00m \u001b[38;5;28mself\u001b[39m\u001b[38;5;241m.\u001b[39m_handle_eof(packet)\n\u001b[0;32m    647\u001b[0m \u001b[38;5;28;01mif\u001b[39;00m packet[\u001b[38;5;241m4\u001b[39m] \u001b[38;5;241m==\u001b[39m \u001b[38;5;241m255\u001b[39m:\n\u001b[1;32m--> 648\u001b[0m     \u001b[38;5;28;01mraise\u001b[39;00m get_exception(packet)\n\u001b[0;32m    650\u001b[0m \u001b[38;5;66;03m# We have a text result set\u001b[39;00m\n\u001b[0;32m    651\u001b[0m column_count \u001b[38;5;241m=\u001b[39m \u001b[38;5;28mself\u001b[39m\u001b[38;5;241m.\u001b[39m_protocol\u001b[38;5;241m.\u001b[39mparse_column_count(packet)\n",
      "\u001b[1;31mDatabaseError\u001b[0m: 1205 (HY000): Lock wait timeout exceeded; try restarting transaction"
     ]
    }
   ],
   "source": [
    "#Insert School data\n",
    "for index, row in student_school.iterrows():\n",
    "    school_id = row['school_id']\n",
    "    school_name = row['school_name']\n",
    "    city = row['city']\n",
    "    \n",
    "    school_insert_query = \"\"\"\n",
    "        INSERT INTO School (school_id, school_name, city)\n",
    "        VALUES (%s, %s, %s)\n",
    "        ON DUPLICATE KEY UPDATE \n",
    "            school_name = VALUES(school_name),\n",
    "            city = VALUES(city);\n",
    "    \"\"\"\n",
    "    \n",
    "    mycursor.execute(school_insert_query, (school_id, school_name, city))"
   ]
  },
  {
   "cell_type": "code",
   "execution_count": null,
   "id": "cd511c19-4421-4913-aed6-242ae7ffb7b0",
   "metadata": {},
   "outputs": [],
   "source": [
    "# Commit the changes\n",
    "gamble_db.commit()\n",
    "\n",
    "# Close the cursor and connection\n",
    "mycursor.close()\n",
    "gamble_db.close()"
   ]
  },
  {
   "cell_type": "code",
   "execution_count": null,
   "id": "63e06f38-9fb6-438d-baf2-16c215cd3d1d",
   "metadata": {},
   "outputs": [],
   "source": []
  }
 ],
 "metadata": {
  "kernelspec": {
   "display_name": "Python 3 (ipykernel)",
   "language": "python",
   "name": "python3"
  },
  "language_info": {
   "codemirror_mode": {
    "name": "ipython",
    "version": 3
   },
   "file_extension": ".py",
   "mimetype": "text/x-python",
   "name": "python",
   "nbconvert_exporter": "python",
   "pygments_lexer": "ipython3",
   "version": "3.12.7"
  }
 },
 "nbformat": 4,
 "nbformat_minor": 5
}
